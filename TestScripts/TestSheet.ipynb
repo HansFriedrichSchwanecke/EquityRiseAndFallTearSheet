{
 "cells": [
  {
   "cell_type": "code",
   "execution_count": 38,
   "metadata": {
    "collapsed": true
   },
   "outputs": [],
   "source": [
    "import json\n",
    "import os\n",
    "from typing import Any, Callable, Optional, Dict, List, Tuple\n",
    "\n",
    "directory = \"C:\\Coding\\PycharmProjects\\EquityRiseAndFallTearSheet\\Data\"\n",
    "file_name = 'Service_Token.json'\n",
    "\n",
    "file_path = os.path.join(directory, file_name)\n",
    "\n",
    "dict_token = {'Last Update': None, 'Current Update': None}"
   ]
  },
  {
   "cell_type": "code",
   "execution_count": 39,
   "outputs": [],
   "source": [
    "import datetime as dt\n",
    "import pytz\n",
    "\n",
    "my_tz = pytz.timezone('Europe/Berlin')\n",
    "utc_now = my_tz.normalize(my_tz.localize(dt.datetime.now(), is_dst=True))\n",
    "\n",
    "#encoded_time_stamp_utc =\n",
    "\n",
    "now = dt.datetime.now()"
   ],
   "metadata": {
    "collapsed": false,
    "pycharm": {
     "name": "#%%\n"
    }
   }
  },
  {
   "cell_type": "code",
   "execution_count": 51,
   "outputs": [],
   "source": [
    "import json\n",
    "import datetime as dt\n",
    "from datetime import timezone\n",
    "from datetime import datetime\n",
    "from datetime import timedelta\n",
    "import pytz\n",
    "from dateutil import parser\n",
    "\n",
    "class DateTimeEncoder(json.JSONEncoder):\n",
    "\n",
    "    def default(self, obj):\n",
    "        if isinstance(obj, (dt.datetime, dt.date, dt.time)):\n",
    "            return obj.isoformat()\n",
    "        elif isinstance(obj, dt.timedelta):\n",
    "            return (dt.datetime.min + obj).time().isoformat()\n",
    "\n",
    "        return super(DateTimeEncoder, self).default(obj)\n",
    "\n",
    "class UTCDateTimeEncoder(json.JSONEncoder):\n",
    "\n",
    "    def default(self, obj: Any) -> Any:\n",
    "        if isinstance(obj, datetime):\n",
    "            return {\n",
    "                '_type' : 'datetime',\n",
    "                'year' : obj.year,\n",
    "                'month' : obj.month,\n",
    "                'day' : obj.day,\n",
    "                'hour' : obj.hour,\n",
    "                'minute' : obj.minute,\n",
    "                'second' : obj.second,\n",
    "                'microsecond' : obj.microsecond,\n",
    "                'int_rep': self._encode(obj, datetime(1970, 1, 1, tzinfo=timezone.utc))\n",
    "            }\n",
    "        else:\n",
    "            return super(DateTimeEncoder, self).default(obj)\n",
    "\n",
    "    @staticmethod\n",
    "    def _encode(input_dt, epoch):\n",
    "        return (input_dt - epoch) / timedelta(seconds=1)\n",
    "\n",
    "class UTCDateTimeDecoder(json.JSONDecoder):\n",
    "\n",
    "\n",
    "    def __init__(self, *args, **kargs) -> None:\n",
    "        json.JSONDecoder.__init__(self, object_hook= self.dict_to_object\n",
    "                                  ,*args ,**kargs)\n",
    "        self.my_tz = pytz.timezone('UTC')\n",
    "\n",
    "    def dict_to_object(self, obj):\n",
    "        if '_type' not in obj:\n",
    "            return obj\n",
    "        type = obj['_type']\n",
    "\n",
    "        if type == 'datetime':\n",
    "            time_stamp = obj['int_rep']\n",
    "            encoded_time_stamp=dt.datetime.utcfromtimestamp(time_stamp)\n",
    "            return self.my_tz.normalize(self.my_tz.localize(encoded_time_stamp, is_dst=True))\n",
    "        return obj\n",
    "\n",
    "        try:\n",
    "            return {idx_key: dt.utcfromtimestamp(time_stamp)}\n",
    "            #return\n",
    "        except:\n",
    "            return input\n",
    "\n",
    "\n",
    "\n",
    "if os.path.exists(file_path):\n",
    "    with open(file_path) as file:\n",
    "        dict_token_3 = json.loads(file.read(), cls=UTCDateTimeDecoder)\n",
    "\n",
    "dict_token['Last Update'] = dict_token['Current Update']\n",
    "dict_token['Current Update'] = utc_now\n",
    "\n",
    "try:\n",
    "    with open(file_path, \"w\") as file:\n",
    "        serialized_dic = json.dumps(dict_token, cls=UTCDateTimeEncoder, indent=2)\n",
    "        file.write(serialized_dic)\n",
    "except FileNotFoundError as err:\n",
    "    print(err)"
   ],
   "metadata": {
    "collapsed": false,
    "pycharm": {
     "name": "#%%\n"
    }
   }
  },
  {
   "cell_type": "code",
   "execution_count": 40,
   "outputs": [],
   "source": [
    "dt.datetime.u"
   ],
   "metadata": {
    "collapsed": false,
    "pycharm": {
     "name": "#%%\n"
    }
   }
  }
 ],
 "metadata": {
  "kernelspec": {
   "display_name": "Python 3",
   "language": "python",
   "name": "python3"
  },
  "language_info": {
   "codemirror_mode": {
    "name": "ipython",
    "version": 2
   },
   "file_extension": ".py",
   "mimetype": "text/x-python",
   "name": "python",
   "nbconvert_exporter": "python",
   "pygments_lexer": "ipython2",
   "version": "2.7.6"
  }
 },
 "nbformat": 4,
 "nbformat_minor": 0
}