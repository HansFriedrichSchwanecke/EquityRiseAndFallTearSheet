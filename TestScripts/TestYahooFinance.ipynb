{
 "cells": [
  {
   "cell_type": "code",
   "execution_count": 18,
   "metadata": {
    "collapsed": true
   },
   "outputs": [],
   "source": [
    "from selenium import webdriver\n",
    "from selenium.webdriver.support.wait import WebDriverWait\n",
    "from selenium.webdriver.common.keys import Keys\n",
    "from selenium.webdriver.common.by import By\n",
    "from selenium.webdriver.support import expected_conditions as EC\n",
    "import time\n",
    "\n",
    "driver_path = 'msedgedriver.exe'\n",
    "\n",
    "fundamentals_url = 'https://finance.yahoo.com/'\n",
    "\n",
    "driver = webdriver.Edge(driver_path)\n",
    "driver.get(fundamentals_url)\n",
    "\n"
   ]
  },
  {
   "cell_type": "code",
   "execution_count": 19,
   "outputs": [],
   "source": [
    "btn = driver.find_element_by_xpath(\"//button[@name='agree']\")\n",
    "btn.click()"
   ],
   "metadata": {
    "collapsed": false,
    "pycharm": {
     "name": "#%%\n"
    }
   }
  },
  {
   "cell_type": "code",
   "execution_count": 20,
   "outputs": [],
   "source": [
    "search_fld = driver.find_element_by_id(\"yfin-usr-qry\")\n",
    "search_fld.send_keys('DK0060534915')\n",
    "\n",
    "search_btn = driver.find_element_by_id(\"header-desktop-search-button\")\n",
    "search_btn.click()\n"
   ],
   "metadata": {
    "collapsed": false,
    "pycharm": {
     "name": "#%%\n"
    }
   }
  },
  {
   "cell_type": "code",
   "execution_count": 21,
   "outputs": [],
   "source": [
    "stat_tab = driver.find_element_by_xpath(\"//span[text() = 'Statistics']\")\n",
    "stat_tab.click()"
   ],
   "metadata": {
    "collapsed": false,
    "pycharm": {
     "name": "#%%\n"
    }
   }
  },
  {
   "cell_type": "code",
   "execution_count": 12,
   "outputs": [],
   "source": [
    "import pandas as pd\n",
    "tables = pd.read_html(driver.page_source)"
   ],
   "metadata": {
    "collapsed": false,
    "pycharm": {
     "name": "#%%\n"
    }
   }
  },
  {
   "cell_type": "code",
   "execution_count": 16,
   "outputs": [
    {
     "data": {
      "text/plain": "{0: {0: 'Avg Vol (3 month) 3',\n  1: 'Avg Vol (10 day) 3',\n  2: 'Shares Outstanding 5',\n  3: 'Implied Shares Outstanding 6',\n  4: 'Float',\n  5: '% Held by Insiders 1',\n  6: '% Held by Institutions 1',\n  7: 'Shares Short 4',\n  8: 'Short Ratio 4',\n  9: 'Short % of Float 4',\n  10: 'Short % of Shares Outstanding 4',\n  11: 'Shares Short (prior month ) 4'},\n 1: {0: '1.89M',\n  1: '1.67M',\n  2: '1.76B',\n  3: '2.29B',\n  4: '1.65B',\n  5: '6.90%',\n  6: '33.75%',\n  7: nan,\n  8: nan,\n  9: nan,\n  10: nan,\n  11: nan}}"
     },
     "execution_count": 16,
     "metadata": {},
     "output_type": "execute_result"
    }
   ],
   "source": [
    "t = tables[0]\n",
    "t1 = tables[1]\n",
    "t2 = tables[2]\n",
    "t2.to_dict()"
   ],
   "metadata": {
    "collapsed": false,
    "pycharm": {
     "name": "#%%\n"
    }
   }
  },
  {
   "cell_type": "code",
   "execution_count": 25,
   "outputs": [],
   "source": [
    "ccy_fld = driver.find_element_by_xpath(\"//span[contains(text(),'Currency in')]\")\n",
    "ccy = ccy_fld.text.split(\"Currency in \",1)[1]\n"
   ],
   "metadata": {
    "collapsed": false,
    "pycharm": {
     "name": "#%%\n"
    }
   }
  }
 ],
 "metadata": {
  "kernelspec": {
   "display_name": "Python 3",
   "language": "python",
   "name": "python3"
  },
  "language_info": {
   "codemirror_mode": {
    "name": "ipython",
    "version": 2
   },
   "file_extension": ".py",
   "mimetype": "text/x-python",
   "name": "python",
   "nbconvert_exporter": "python",
   "pygments_lexer": "ipython2",
   "version": "2.7.6"
  }
 },
 "nbformat": 4,
 "nbformat_minor": 0
}